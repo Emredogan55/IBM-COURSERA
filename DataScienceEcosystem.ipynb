{
  "metadata": {
    "kernelspec": {
      "name": "python",
      "display_name": "Pyolite",
      "language": "python"
    },
    "language_info": {
      "codemirror_mode": {
        "name": "python",
        "version": 3
      },
      "file_extension": ".py",
      "mimetype": "text/x-python",
      "name": "python",
      "nbconvert_exporter": "python",
      "pygments_lexer": "ipython3",
      "version": "3.8"
    }
  },
  "nbformat_minor": 4,
  "nbformat": 4,
  "cells": [
    {
      "cell_type": "markdown",
      "source": "<center>\n    <img src=\"https://cf-courses-data.s3.us.cloud-object-storage.appdomain.cloud/IBMDeveloperSkillsNetwork-DS0105EN-SkillsNetwork/labs/Module2/images/SN_web_lightmode.png\" width=\"300\" alt=\"cognitiveclass.ai logo\">\n</center>\n",
      "metadata": {}
    },
    {
      "cell_type": "markdown",
      "source": "#### IBM-Peer-graded Assignment: Submit Your Work and Grade Your Peers\n",
      "metadata": {
        "tags": []
      }
    },
    {
      "cell_type": "code",
      "source": "print(\"In this notebook, Data Science Tools and Ecosystem are summarized.\")\n",
      "metadata": {
        "trusted": true
      },
      "execution_count": 2,
      "outputs": [
        {
          "name": "stdout",
          "text": "In this notebook, Data Science Tools and Ecosystem are summarized.\n",
          "output_type": "stream"
        }
      ]
    },
    {
      "cell_type": "markdown",
      "source": "#### Some of the popular languages that Data Scientists use are\n",
      "metadata": {
        "tags": []
      }
    },
    {
      "cell_type": "markdown",
      "source": "1-Python\n2-R\n3-SQL\n4-Scala\n5-Java\n6-C++\n7-Julia\n8-JavaScript\n9-PHP\n10-Go\n11-Ruby\n12-Visual Basic",
      "metadata": {}
    },
    {
      "cell_type": "markdown",
      "source": "#### Some of the commonly used libraries used by Data Scientists include\n",
      "metadata": {}
    },
    {
      "cell_type": "markdown",
      "source": "1-Pandas\n2-Numpy\n3-Matplotlib\n4-Seaborn\n5-Scikit-learn\n6-Keras\n7-TensorFlow\n8-PyTorch\n9-Apache Spark\n10-Vegas\n11-Big DL\n12-Ggplot2",
      "metadata": {}
    },
    {
      "cell_type": "markdown",
      "source": "#### Data Science Tools\n",
      "metadata": {}
    },
    {
      "cell_type": "markdown",
      "source": "1-Jupyter Notebook\n2-RStudio\n3-Spyder\n4-Zeppelin",
      "metadata": {}
    },
    {
      "cell_type": "code",
      "source": "#below are a few examples of evaluating arithmetic expressions in Python\nprint(2+3)",
      "metadata": {},
      "execution_count": null,
      "outputs": []
    },
    {
      "cell_type": "code",
      "source": " #This a simple arithmetic expression to mutiply then add integers\nprint((12*5)+27)",
      "metadata": {
        "trusted": true
      },
      "execution_count": 1,
      "outputs": [
        {
          "name": "stdout",
          "text": "87\n",
          "output_type": "stream"
        }
      ]
    },
    {
      "cell_type": "code",
      "source": "#This will convert 200 minutes to hours by diving by 60\nprint((200/60),\"hours\") ",
      "metadata": {
        "trusted": true
      },
      "execution_count": 2,
      "outputs": [
        {
          "name": "stdout",
          "text": "3.3333333333333335 hours\n",
          "output_type": "stream"
        }
      ]
    },
    {
      "cell_type": "code",
      "source": "Top programming languages for data scientists:\nPython\nR\nSQL\nJava\nJulia\nScala\nC/C++\nJavaScript",
      "metadata": {},
      "execution_count": null,
      "outputs": []
    },
    {
      "cell_type": "code",
      "source": "#My expectation from this course is to become a successful data analyst. To show the necessary information and methods for him.",
      "metadata": {},
      "execution_count": null,
      "outputs": []
    },
    {
      "cell_type": "markdown",
      "source": "#### Author\n",
      "metadata": {}
    },
    {
      "cell_type": "markdown",
      "source": "EMRE DOĞAN",
      "metadata": {}
    }
  ]
}